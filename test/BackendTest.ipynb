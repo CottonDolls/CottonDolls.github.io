{
 "cells": [
  {
   "cell_type": "code",
   "execution_count": 2,
   "metadata": {},
   "outputs": [
    {
     "name": "stdout",
     "output_type": "stream",
     "text": [
      "Status Code: 401\n"
     ]
    }
   ],
   "source": [
    "import requests\n",
    "import pandas as pd\n",
    "url = \"https://api.airtable.com/v0/appYTQ3wqtGFV1bI7/Plaza\"\n",
    "\n",
    "headers = {\n",
    "    'Authorization': 'Bearer keyfeHpNoj99MQRfv',\n",
    "}\n",
    "\n",
    "r = requests.get(url, headers=headers)\n",
    "print(\"Status Code:\",r.status_code)\n",
    "\n",
    "resp = r.json()\n"
   ]
  },
  {
   "cell_type": "code",
   "execution_count": 30,
   "metadata": {},
   "outputs": [
    {
     "name": "stdout",
     "output_type": "stream",
     "text": [
      "{'Poster_id': ['recrVBG1Z0KszWZ67'], 'Title': '凌肖肖浅穿一下酷尼企哇 ', 'Number': 10, 'Content': '内搭连体衣布料一般，有点小透？不影响，外套袖子内的布料有点脱毛，会粘到连体衣上面，外套和背带裤布料都还挺厚实的，帽子和围巾布料一般般，不过穿着还可以', 'p_id': 'p10', 'Poster': ['梅梅糖（学习版 '], 'Attribute': ['凌肖'], 'Image': [{'id': 'attKHde7wuJvtbe6X', 'width': 1080, 'height': 1080, 'url': 'https://dl.airtable.com/.attachments/c802751ec8c85970b5e1064f252fba0f/5897a9c3/p532914864.webp', 'filename': 'p532914864.webp', 'size': 138662, 'type': 'image/webp', 'thumbnails': {'small': {'url': 'https://dl.airtable.com/.attachmentThumbnails/b269980e452ba5d201a6dafc89cbbb82/8683376a.png', 'width': 36, 'height': 36}, 'large': {'url': 'https://dl.airtable.com/.attachmentThumbnails/82bb2d58e2af4de73bb0718d7a8f888f/8fcc47c0.png', 'width': 512, 'height': 512}, 'full': {'url': 'https://dl.airtable.com/.attachmentThumbnails/7368f05d5a41b36767a3c089c8d8e5b5/935d526c.png', 'width': 3000, 'height': 3000}}}]}\n",
      "\n",
      "\n",
      "{'Poster_id': ['rec6Z5Z5r4M2ah9Ss'], 'Title': '很美栗吧我们小栗糕', 'Number': 4, 'p_id': 'p4', 'Poster': ['一块绯雾碘锌']}\n",
      "\n",
      "\n",
      "{'Poster_id': ['recg2R4v6lf0H0BY2'], 'Title': '白色洗水兔毛真的适合帅哥', 'Number': 7, 'Content': '礼貌小孩', 'p_id': 'p7', 'Poster': ['心碎小狗'], 'Attribute': ['齐司礼'], 'Image': [{'id': 'attJ6sClu25wYZDeJ', 'width': 1080, 'height': 1266, 'url': 'https://dl.airtable.com/.attachments/1050f2a6eedcc1e4a83de6c4d2d80eff/b74fe3e7/p524963798.webp', 'filename': 'p524963798.webp', 'size': 76012, 'type': 'image/webp', 'thumbnails': {'small': {'url': 'https://dl.airtable.com/.attachmentThumbnails/65d55a5a058cbdb932431c04218b53b9/a179b173.png', 'width': 31, 'height': 36}, 'large': {'url': 'https://dl.airtable.com/.attachmentThumbnails/5293cab511c45889caa42f1a48c79fbf/556c337b.png', 'width': 512, 'height': 600}, 'full': {'url': 'https://dl.airtable.com/.attachmentThumbnails/fec1abd2729d67008834c16a714f4862/6609d213.png', 'width': 3000, 'height': 3000}}}]}\n",
      "\n",
      "\n",
      "{'Poster_id': ['rec7eoW9BuJeqT9YD'], 'Title': '娃用饮水机也太可爱啦', 'Number': 6, 'Content': '太可爱啦这个饮水机#棉花娃娃 #棉花美娃娃 #安利 #饮水机 #拼多多', 'p_id': 'p6', 'Poster': ['欧尼']}\n",
      "\n",
      "\n",
      "{'Poster_id': ['recXneQjydV4nI5S4'], 'Title': '问问妈咪们这个宝贝叫什么呀？', 'Number': 9, 'Content': '五条悟属性的', 'p_id': 'p9', 'Poster': ['MF不解释'], 'Attribute': ['五条悟']}\n",
      "\n",
      "\n",
      "{'Poster_id': ['recUrxH827pqWRKev'], 'Title': '沉浸式幼儿园接小孩 ', 'Number': 3, 'Content': '幼儿园放学了，小朋友们在等家长来接', 'Date': '2022-03-06', 'p_id': 'p3', 'Poster': ['不及雨'], 'Image': [{'id': 'att15kmmnxcnahSzU', 'width': 1080, 'height': 810, 'url': 'https://dl.airtable.com/.attachments/ed1f57b82fcf24527c5f1422baa43c74/805e9d79/p533110250.webp', 'filename': 'p533110250.webp', 'size': 76130, 'type': 'image/webp', 'thumbnails': {'small': {'url': 'https://dl.airtable.com/.attachmentThumbnails/763fdf6fa061cfd2bfebcd576ca27098/7b80b55f.png', 'width': 48, 'height': 36}, 'large': {'url': 'https://dl.airtable.com/.attachmentThumbnails/f4bf5f4b3df0d580131b98d72ddf8562/11ee9f11.png', 'width': 683, 'height': 512}, 'full': {'url': 'https://dl.airtable.com/.attachmentThumbnails/579e7f2f66ca6d42b8448602778b584a/db85f609.png', 'width': 3000, 'height': 3000}}}]}\n",
      "\n",
      "\n",
      "{'Poster_id': ['recVwyV9oARWuDd2p'], 'Title': '出刘昊然属性空吧哇，仅仅打了晒红！ \\u200b', 'Number': 8, 'p_id': 'p8', 'Poster': ['是薄薄啦'], 'Attribute': ['刘昊然']}\n",
      "\n",
      "\n",
      "{'Poster_id': ['rec1b6ZozTC2g8KZx'], 'Title': '各位ee们可以进来看一看小兔to嘛💞还有甜美竹马 ', 'Number': 1, 'Date': '2022-03-06', 'p_id': 'p1', 'Poster': ['泡泡糖和to大王'], 'Image': [{'id': 'attod3UZGnv7h6rr4', 'width': 1080, 'height': 1080, 'url': 'https://dl.airtable.com/.attachments/9bad4c9c7fbc76eac837ecd192bdfb98/ffe73a82/p533104882.webp', 'filename': 'p533104882.webp', 'size': 112272, 'type': 'image/webp', 'thumbnails': {'small': {'url': 'https://dl.airtable.com/.attachmentThumbnails/fabc59119cb2af1b65bc6baf2920925a/842bfc93.png', 'width': 36, 'height': 36}, 'large': {'url': 'https://dl.airtable.com/.attachmentThumbnails/3bc996d2e26aa9e4bf98664b82c81997/8964b266.png', 'width': 512, 'height': 512}, 'full': {'url': 'https://dl.airtable.com/.attachmentThumbnails/45b64149c0b565d0d132bb9f92a38a99/c05eddc0.png', 'width': 3000, 'height': 3000}}}]}\n",
      "\n",
      "\n",
      "{'Poster_id': ['recL1qZOK9rtp2OGM'], 'Title': '一觉醒来自己进毒圈了 ', 'Number': 5, 'Content': '给我的宝也做好防护（口罩是自制的） \\u200b', 'p_id': 'p5', 'Poster': ['小林不胖吧']}\n",
      "\n",
      "\n",
      "{'Poster_id': ['recxg1ZMkwLLGJ9vC'], 'Title': '深夜征名', 'Number': 2, 'Content': '选中的揪一个', 'Date': '2022-03-06', 'p_id': 'p2', 'Poster': ['一只兔宅']}\n",
      "\n",
      "\n"
     ]
    }
   ],
   "source": [
    "for i in resp['records']:\n",
    "    print (i[ 'fields'])\n",
    "    print (\"\\n\")"
   ]
  },
  {
   "cell_type": "code",
   "execution_count": 34,
   "metadata": {},
   "outputs": [
    {
     "name": "stdout",
     "output_type": "stream",
     "text": [
      "https://dl.airtable.com/.attachments/c802751ec8c85970b5e1064f252fba0f/5897a9c3/p532914864.webp\n"
     ]
    }
   ],
   "source": [
    "print (resp['records'][0]['fields']['Image'][0]['url'])"
   ]
  },
  {
   "cell_type": "code",
   "execution_count": 10,
   "metadata": {},
   "outputs": [
    {
     "name": "stdout",
     "output_type": "stream",
     "text": [
      "Status Code: 200\n",
      "{'records': [{'id': 'rec29OG3UqxDfPWkp', 'createdTime': '2022-03-12T15:23:27.000Z', 'fields': {'Reviewer': ['recxg1ZMkwLLGJ9vC'], 'Type': 'factory', 'Factory': ['recb2yRjanHfEgqvu'], 'Content': '做了5个20cm和4个10cm娃，刺绣巨稳，从来不咕，几乎有求必应，壳姐人超好，姐妹可以放心冲[鲜花]顺便放一个我的娃给姐妹看看效果，复杂刺绣壳姐也完全ok', 'Image': [{'id': 'att5wEJiSOQxbju84', 'width': 1706, 'height': 1280, 'url': 'https://dl.airtable.com/.attachments/74450051176d1a8c0745925426cf834c/9dd1fdf6/WechatIMG269.jpeg', 'filename': 'WechatIMG269.jpeg', 'size': 207849, 'type': 'image/jpeg', 'thumbnails': {'small': {'url': 'https://dl.airtable.com/.attachmentThumbnails/7a8b651fbef7f07a1cb3b960cf7c973a/168d68b6', 'width': 48, 'height': 36}, 'large': {'url': 'https://dl.airtable.com/.attachmentThumbnails/1b05e84c1246a71654ab58715336f2c1/bbabe603', 'width': 682, 'height': 512}, 'full': {'url': 'https://dl.airtable.com/.attachmentThumbnails/fe4ab1048a4ded4fa0f45b92e17ab108/cf00c61c', 'width': 3000, 'height': 3000}}}], 'Number': 8, 'comm_id': 'comm8', 'UserName': ['一只兔宅']}}, {'id': 'recBFuRiDwIknI4nV', 'createdTime': '2022-03-12T15:23:04.000Z', 'fields': {'Reviewer': ['rec1b6ZozTC2g8KZx'], 'Type': 'factory', 'Factory': ['rec5jZCKr1GXeec8x'], 'Content': '皮小棉私生工坊 Pika私生真的很牛，一样一遍过完全没问题，都去找它花钱', 'Image': [{'id': 'attfk2scY6tzOuOkc', 'width': 1430, 'height': 1222, 'url': 'https://dl.airtable.com/.attachments/559ded9af9655771100141cfe19e8075/bc5b69ce/WechatIMG268.jpeg', 'filename': 'WechatIMG268.jpeg', 'size': 92233, 'type': 'image/jpeg', 'thumbnails': {'small': {'url': 'https://dl.airtable.com/.attachmentThumbnails/28c4377a6c38aaf7481c7912615142f9/a4e7cd21', 'width': 42, 'height': 36}, 'large': {'url': 'https://dl.airtable.com/.attachmentThumbnails/cde8be24abc2fde1c1ec6856c694eb29/c5d6e54c', 'width': 599, 'height': 512}, 'full': {'url': 'https://dl.airtable.com/.attachmentThumbnails/4403dc91fba7d2e224f6e7015ed4e9e0/c39adfb1', 'width': 3000, 'height': 3000}}}], 'Number': 7, 'comm_id': 'comm7', 'UserName': ['泡泡糖和to大王']}}, {'id': 'recFqfKt0EeQrBjw4', 'createdTime': '2022-03-12T15:20:50.000Z', 'fields': {'Reviewer': ['recxg1ZMkwLLGJ9vC'], 'Type': 'crafter', 'Content': '大胖小子们终于到家了，太太手艺超好，每个都能独立坐下，而且看不出缝合痕迹', 'Image': [{'id': 'att6Ogl5qRb1heegk', 'width': 500, 'height': 500, 'url': 'https://dl.airtable.com/.attachments/44a646eef88ec137ca943abf2240a10f/3609274a/u38918559362838370508fm224app112fJPEG.jpg', 'filename': 'u=3891855936,2838370508&fm=224&app=112&f=JPEG.jpg', 'size': 47613, 'type': 'image/jpeg', 'thumbnails': {'small': {'url': 'https://dl.airtable.com/.attachmentThumbnails/25ae62d84ed2811d783b8673aef5412b/241333b9', 'width': 36, 'height': 36}, 'large': {'url': 'https://dl.airtable.com/.attachmentThumbnails/f70f9e81c5158e510a1eb7ffe1e62500/10497143', 'width': 500, 'height': 500}, 'full': {'url': 'https://dl.airtable.com/.attachmentThumbnails/9da65b686cb749c6b566b40bc55572ae/309679de', 'width': 3000, 'height': 3000}}}], 'Crafter': ['rec2NdCfWfKYdcUKC'], 'Number': 6, 'comm_id': 'comm6', 'UserName': ['一只兔宅']}}, {'id': 'recLlF31GoOZoiavU', 'createdTime': '2022-03-12T15:23:27.000Z', 'fields': {'Reviewer': ['recUrxH827pqWRKev'], 'Type': 'factory', 'Factory': ['reco93i0Kuti9LINs'], 'Content': '姐妹们避雷下QD这个厂吧 今天装骨架把棉花掏出来时发现有虫 等把骨架塞里面时又冲脖子附近看了看头发 棉花看起来脏脏的有点发黑的颜色  真的很可爱的一个崽崽就被QD做成了这样 也有很严重的双下巴 太悲伤了硬着头皮把脖子缝上了', 'Image': [{'id': 'attLtmqm28g3nAUqZ', 'width': 1440, 'height': 1080, 'url': 'https://dl.airtable.com/.attachments/389c278fc5e212cf916f5439d4f1abcb/680f26b4/WechatIMG271.jpeg', 'filename': 'WechatIMG271.jpeg', 'size': 294974, 'type': 'image/jpeg', 'thumbnails': {'small': {'url': 'https://dl.airtable.com/.attachmentThumbnails/75d5520e6dfbc5ef3649bc4a09756155/a8216cd6', 'width': 48, 'height': 36}, 'large': {'url': 'https://dl.airtable.com/.attachmentThumbnails/3e1c7f636e971aefe097fed614d766af/e4c2bfac', 'width': 683, 'height': 512}, 'full': {'url': 'https://dl.airtable.com/.attachmentThumbnails/d7c960e61a7f1657859c126e5e3886c0/f427de48', 'width': 3000, 'height': 3000}}}, {'id': 'attwy740Cb1srq18s', 'width': 1471, 'height': 1080, 'url': 'https://dl.airtable.com/.attachments/1974e61e42cf6f061da526179f0e3eb0/2adf4eb9/WechatIMG272.jpeg', 'filename': 'WechatIMG272.jpeg', 'size': 362354, 'type': 'image/jpeg', 'thumbnails': {'small': {'url': 'https://dl.airtable.com/.attachmentThumbnails/b8e3cd0dbbc6d9a058bca1e6eec61a10/66896ccd', 'width': 49, 'height': 36}, 'large': {'url': 'https://dl.airtable.com/.attachmentThumbnails/ba0ec6f60bfa054335c9f57ed4efb82a/c721d637', 'width': 697, 'height': 512}, 'full': {'url': 'https://dl.airtable.com/.attachmentThumbnails/6db23eeacc87a0f83b44dc6e5806e4cb/d9418276', 'width': 3000, 'height': 3000}}}], 'Number': 9, 'comm_id': 'comm9', 'UserName': ['不及雨']}}, {'id': 'recNVOrPAcV658NL6', 'createdTime': '2022-03-12T15:20:50.000Z', 'fields': {'Reviewer': ['recrVBG1Z0KszWZ67'], 'Type': 'crafter', 'Content': '妈咪太强了，不仅会做发型，还会拍娃片！！我吹爆', 'Image': [{'id': 'attVj4cmrB9CewHjv', 'width': 500, 'height': 500, 'url': 'https://dl.airtable.com/.attachments/e800457e1c659303ddeadadf05f19561/30b5aa21/u32310898981777789005fm224app112fJPEG.jpg', 'filename': 'u=3231089898,1777789005&fm=224&app=112&f=JPEG.jpg', 'size': 33687, 'type': 'image/jpeg', 'thumbnails': {'small': {'url': 'https://dl.airtable.com/.attachmentThumbnails/8d95d9ef14943bc50bf4ef7a308b0dcb/1ce562bc', 'width': 36, 'height': 36}, 'large': {'url': 'https://dl.airtable.com/.attachmentThumbnails/feaa7e87fcfbc32b549ae9976f5ca6e4/a249d816', 'width': 500, 'height': 500}, 'full': {'url': 'https://dl.airtable.com/.attachmentThumbnails/6ff218703da3002d2c697dfc8b306dd8/2f52647f', 'width': 3000, 'height': 3000}}}], 'Crafter': ['recUu0hQgKtCEM8De'], 'Number': 4, 'comm_id': 'comm4', 'UserName': ['梅梅糖（学习版 ']}}, {'id': 'recUiZ2IbXhLgDpA6', 'createdTime': '2022-03-12T15:23:44.000Z', 'fields': {'Type': 'factory', 'Factory': ['receIQxKBv4JaoMvw'], 'Content': '我的总体说还可以，有点没脖子…但是出货还是挺快的客服也不错', 'Number': 17, 'comm_id': 'comm17'}}, {'id': 'recYi5w1sy7qM6sPb', 'createdTime': '2022-03-12T15:23:27.000Z', 'fields': {'Reviewer': ['recL1qZOK9rtp2OGM'], 'Type': 'factory', 'Factory': ['receIQxKBv4JaoMvw'], 'Content': '前段时间大货崩的离谱。我圈一个发片娃大货发片都不行，耳钉刺绣全部没绣', 'Image': [{'id': 'attrBybbKNKHkDjRT', 'width': 1540, 'height': 1203, 'url': 'https://dl.airtable.com/.attachments/6aee3f40be5b30cf14e3336d011452da/ea428929/WechatIMG277.jpeg', 'filename': 'WechatIMG277.jpeg', 'size': 130331, 'type': 'image/jpeg', 'thumbnails': {'small': {'url': 'https://dl.airtable.com/.attachmentThumbnails/935929c24e7940d5af87a5b28664a4e4/614d87be', 'width': 46, 'height': 36}, 'large': {'url': 'https://dl.airtable.com/.attachmentThumbnails/5b2392ee68661f161035f3755bdbe410/5602e865', 'width': 655, 'height': 512}, 'full': {'url': 'https://dl.airtable.com/.attachmentThumbnails/45fa08c237b339693ec5144e0eb2edc8/113c902b', 'width': 3000, 'height': 3000}}}], 'Number': 11, 'comm_id': 'comm11', 'UserName': ['小林不胖吧']}}, {'id': 'recZhQIW3agDbxXqO', 'createdTime': '2022-03-12T15:23:44.000Z', 'fields': {'Type': 'factory', 'Factory': ['recesz3Sq0eqw7h2U'], 'Content': '客服态度超好！刺绣绝绝子，二样也改的很棒 \\n询单问过五六个稿图吧，每次回复都很快，而且态度超好。看面皮刺绣的时候就能看出来精致的程度', 'Number': 16, 'comm_id': 'comm16'}}, {'id': 'recbtUksRCPhZEqpx', 'createdTime': '2022-03-12T15:23:42.000Z', 'fields': {'Type': 'factory', 'Factory': ['rec5jZCKr1GXeec8x'], 'Content': '真的是大方脸 特别特别方 而且侧面看脸 是平的…窒息了\\n不想放图 实在太丑了 ', 'Number': 13, 'comm_id': 'comm13'}}, {'id': 'recegb0c2GkqDwiw0', 'createdTime': '2022-03-12T15:23:44.000Z', 'fields': {'Type': 'factory', 'Factory': ['reco93i0Kuti9LINs'], 'Content': '全头缝娃娃绵糕，签订合同后拖延两月才出货，娃妈不质检导致一整批大货全部做错成半头秃子，娃厂答应寄回退全款，寄回后以“答应退全款的职工已经被我们开除了”为由拒绝退款!', 'Number': 15, 'comm_id': 'comm15'}}, {'id': 'recg11zcaHVY37WyJ', 'createdTime': '2022-03-12T15:23:27.000Z', 'fields': {'Reviewer': ['rec7eoW9BuJeqT9YD'], 'Type': 'factory', 'Factory': ['recuCu7JaIkEB7m7Z'], 'Content': '真的每一个都好可爱 感谢@AJM阿俊妈玩偶定制 技高人善AJM！大货免检AJM！', 'Image': [{'id': 'attNNaELe6dW85XR0', 'width': 1280, 'height': 1706, 'url': 'https://dl.airtable.com/.attachments/5fc29c1407949afe21d83e5d816338ca/a4e184c0/WechatIMG280.jpeg', 'filename': 'WechatIMG280.jpeg', 'size': 226774, 'type': 'image/jpeg', 'thumbnails': {'small': {'url': 'https://dl.airtable.com/.attachmentThumbnails/2040c89cf29c04823b1d79c81dbf168d/35eb427d', 'width': 27, 'height': 36}, 'large': {'url': 'https://dl.airtable.com/.attachmentThumbnails/1229ae67e3f054c116d704901e4ac3c6/27bd11df', 'width': 512, 'height': 682}, 'full': {'url': 'https://dl.airtable.com/.attachmentThumbnails/de3ca6aed48f189f1cc0563eddc964b9/4a959ca2', 'width': 3000, 'height': 3000}}}], 'Number': 12, 'comm_id': 'comm12', 'UserName': ['欧尼']}}, {'id': 'recjGQ5ipvawUVpux', 'createdTime': '2022-03-12T15:01:21.000Z', 'fields': {'Reviewer': ['recXneQjydV4nI5S4'], 'Type': 'crafter', 'Content': '很负责的太太，出了问题也很负责地协商解决，手艺也很好！是第二次送了，强推', 'Image': [{'id': 'att7Cc1lS1OlqcNzA', 'width': 500, 'height': 500, 'url': 'https://dl.airtable.com/.attachments/a73cd9044d1ee867583f1b595b5f6136/81ad6841/u16284357462287130976fm224app112fJPEG.jpg', 'filename': 'u=1628435746,2287130976&fm=224&app=112&f=JPEG.jpg', 'size': 33164, 'type': 'image/jpeg', 'thumbnails': {'small': {'url': 'https://dl.airtable.com/.attachmentThumbnails/04e968a66aa3941b2916b30b51be0b44/e031a04f', 'width': 36, 'height': 36}, 'large': {'url': 'https://dl.airtable.com/.attachmentThumbnails/d6e8938957ab8c05f9df40ee1fe9e114/bfa96311', 'width': 500, 'height': 500}, 'full': {'url': 'https://dl.airtable.com/.attachmentThumbnails/cb5a62bb5d548a1b1b4fb5e315b6204f/bcafe607', 'width': 3000, 'height': 3000}}}], 'Crafter': ['recxgIpe4xxpYBmMn'], 'Number': 3, 'comm_id': 'comm3', 'UserName': ['MF不解释']}}, {'id': 'recln1D64IG33SIsi', 'createdTime': '2022-03-12T15:23:27.000Z', 'fields': {'Reviewer': ['rec6Z5Z5r4M2ah9Ss'], 'Type': 'factory', 'Factory': ['recesz3Sq0eqw7h2U'], 'Content': '安利一下暖乐仔娃厂，从打样开始，娃厂负责人就会和娃妈一一主动汇报进度，无论是采买还是选色。然后大货的工期是几乎就是一个多月，十月中付的大货款，昨天告诉我做好了，发过图来检查大货质量稳得一批，比打样还细致，妥妥良心娃厂 ', 'Image': [{'id': 'attOHrtxzB8MIl4fy', 'width': 960, 'height': 1239, 'url': 'https://dl.airtable.com/.attachments/542724dad0a92cdc454a80fd4957196a/f4029ceb/WechatIMG274.jpeg', 'filename': 'WechatIMG274.jpeg', 'size': 129363, 'type': 'image/jpeg', 'thumbnails': {'small': {'url': 'https://dl.airtable.com/.attachmentThumbnails/63e26f853c82f92da886bfcbbb704929/01ea0fe4', 'width': 28, 'height': 36}, 'large': {'url': 'https://dl.airtable.com/.attachmentThumbnails/0d6817efa005df66832b4420f6fda18c/682eefb0', 'width': 512, 'height': 661}, 'full': {'url': 'https://dl.airtable.com/.attachmentThumbnails/1b40bd4c709227e0b5dadaea757b7dac/8cd8d668', 'width': 3000, 'height': 3000}}}], 'Number': 10, 'comm_id': 'comm10', 'UserName': ['一块绯雾碘锌']}}, {'id': 'recnQGujA4ltAJjC3', 'createdTime': '2022-03-12T15:23:44.000Z', 'fields': {'Type': 'factory', 'Factory': ['recb2yRjanHfEgqvu'], 'Content': '私生过两次，客服人很好，而且不咕，刺绣挺稳的', 'Number': 14, 'comm_id': 'comm14'}}, {'id': 'recnydl6Fm1s7YBJr', 'createdTime': '2022-03-12T15:23:44.000Z', 'fields': {'Type': 'factory', 'Factory': ['recuCu7JaIkEB7m7Z'], 'Content': '真的 这个娃厂绝了 二团小月亮 全是大胖子 现在小小月亮和二团一样脸部变形  胳膊腿都不一样长 三团小狐也是一大半翻车', 'Number': 18, 'comm_id': 'comm18'}}, {'id': 'recog2bTehFMCONCr', 'createdTime': '2022-03-12T15:01:21.000Z', 'fields': {'Reviewer': ['recg2R4v6lf0H0BY2'], 'Type': 'crafter', 'Content': '超可爱超可爱！！老师真的超厉害！', 'Image': [{'id': 'attXAIaPQnd1ozGvg', 'width': 800, 'height': 800, 'url': 'https://dl.airtable.com/.attachments/05525c74f1bd1f9a036304540a478846/727d70ea/32e2a78ab54c8593.jpg', 'filename': '32e2a78ab54c8593.jpg', 'size': 380944, 'type': 'image/jpeg', 'thumbnails': {'small': {'url': 'https://dl.airtable.com/.attachmentThumbnails/8f1886a153d658064389e990b2307425/757d2ce3', 'width': 36, 'height': 36}, 'large': {'url': 'https://dl.airtable.com/.attachmentThumbnails/5418f85ed979c30ddf9cdbb3c5819df6/09b8999a', 'width': 512, 'height': 512}, 'full': {'url': 'https://dl.airtable.com/.attachmentThumbnails/e0a6f962430126b5bade509866c188ea/c087f797', 'width': 3000, 'height': 3000}}}], 'Crafter': ['recZ3RD0E5D2kSXZ7'], 'Number': 1, 'comm_id': 'comm1', 'UserName': ['心碎小狗']}}, {'id': 'rectyhlqjelhGHdPE', 'createdTime': '2022-03-12T15:20:50.000Z', 'fields': {'Reviewer': ['rec1b6ZozTC2g8KZx'], 'Type': 'crafter', 'Content': '感谢姐妹帮孩子注入灵魂！', 'Image': [{'id': 'att5fx5vLRckpOcKH', 'width': 500, 'height': 500, 'url': 'https://dl.airtable.com/.attachments/d07f6eeac8f7c975c4c04e05737bc1c3/117a240b/u340091633984001272fm224app112fJPEG.jpg', 'filename': 'u=3400916339,84001272&fm=224&app=112&f=JPEG.jpg', 'size': 33433, 'type': 'image/jpeg', 'thumbnails': {'small': {'url': 'https://dl.airtable.com/.attachmentThumbnails/3c28895e973ab03f6a64b1732f4d94b5/73e72a84', 'width': 36, 'height': 36}, 'large': {'url': 'https://dl.airtable.com/.attachmentThumbnails/e3ab9627acb9b291cd3f48907101cde7/bb094601', 'width': 500, 'height': 500}, 'full': {'url': 'https://dl.airtable.com/.attachmentThumbnails/3dfbd366e8a3df63ee37cb0501f1c42b/ba4bd231', 'width': 3000, 'height': 3000}}}], 'Crafter': ['recG1qSFX2OYICDfd'], 'Number': 5, 'comm_id': 'comm5', 'UserName': ['泡泡糖和to大王']}}, {'id': 'recz2ueDFQMQdkXzS', 'createdTime': '2022-03-12T15:01:21.000Z', 'fields': {'Reviewer': ['recVwyV9oARWuDd2p'], 'Type': 'crafter', 'Content': '在宝强老师这里送了11只了，质量一如既往的好！', 'Image': [{'id': 'att5AwnLuT1RNs6mZ', 'width': 500, 'height': 500, 'url': 'https://dl.airtable.com/.attachments/2967897813e32b4c111b6739ab54eefc/809a60e5/u25945944413524672800fm224app112fJPEG.jpg', 'filename': 'u=2594594441,3524672800&fm=224&app=112&f=JPEG.jpg', 'size': 42483, 'type': 'image/jpeg', 'thumbnails': {'small': {'url': 'https://dl.airtable.com/.attachmentThumbnails/e08c7781c987dfde5f5383bf5a0e04ad/d4be1440', 'width': 36, 'height': 36}, 'large': {'url': 'https://dl.airtable.com/.attachmentThumbnails/aa11fa9f2ff0548fdbd2e902aae92f98/9b522ce6', 'width': 500, 'height': 500}, 'full': {'url': 'https://dl.airtable.com/.attachmentThumbnails/665fedfa4e24e3ec52fd0527bf0c70d3/821823eb', 'width': 3000, 'height': 3000}}}], 'Crafter': ['recHNeYDHBAuBaLLB'], 'Number': 2, 'comm_id': 'comm2', 'UserName': ['是薄薄啦']}}]}\n"
     ]
    }
   ],
   "source": [
    "headers = {\n",
    "    'Authorization': 'Bearer keyl5xokrjV2hQNZz',\n",
    "}\n",
    "url2 = \"https://api.airtable.com/v0/appYTQ3wqtGFV1bI7/Review\"\n",
    "r2 = requests.get(url2, headers=headers)\n",
    "print(\"Status Code:\",r2.status_code)\n",
    "\n",
    "resp2 = r2.json()\n",
    "print (resp2)"
   ]
  },
  {
   "cell_type": "code",
   "execution_count": 4,
   "metadata": {},
   "outputs": [
    {
     "name": "stdout",
     "output_type": "stream",
     "text": [
      "<class 'list'>\n"
     ]
    }
   ],
   "source": [
    "print (type(resp2['records']))"
   ]
  },
  {
   "cell_type": "code",
   "execution_count": 5,
   "metadata": {},
   "outputs": [
    {
     "name": "stdout",
     "output_type": "stream",
     "text": [
      "rec29OG3UqxDfPWkp\n"
     ]
    }
   ],
   "source": [
    "print (resp2['records'][0]['id'])"
   ]
  },
  {
   "cell_type": "code",
   "execution_count": 11,
   "metadata": {},
   "outputs": [
    {
     "name": "stdout",
     "output_type": "stream",
     "text": [
      "[{'Reviewer': ['rec1b6ZozTC2g8KZx'], 'Type': 'factory', 'Factory': ['rec5jZCKr1GXeec8x'], 'Content': '皮小棉私生工坊 Pika私生真的很牛，一样一遍过完全没问题，都去找它花钱', 'Image': [{'id': 'attfk2scY6tzOuOkc', 'width': 1430, 'height': 1222, 'url': 'https://dl.airtable.com/.attachments/559ded9af9655771100141cfe19e8075/bc5b69ce/WechatIMG268.jpeg', 'filename': 'WechatIMG268.jpeg', 'size': 92233, 'type': 'image/jpeg', 'thumbnails': {'small': {'url': 'https://dl.airtable.com/.attachmentThumbnails/28c4377a6c38aaf7481c7912615142f9/a4e7cd21', 'width': 42, 'height': 36}, 'large': {'url': 'https://dl.airtable.com/.attachmentThumbnails/cde8be24abc2fde1c1ec6856c694eb29/c5d6e54c', 'width': 599, 'height': 512}, 'full': {'url': 'https://dl.airtable.com/.attachmentThumbnails/4403dc91fba7d2e224f6e7015ed4e9e0/c39adfb1', 'width': 3000, 'height': 3000}}}], 'Number': 7, 'comm_id': 'comm7', 'UserName': ['泡泡糖和to大王']}, {'Type': 'factory', 'Factory': ['rec5jZCKr1GXeec8x'], 'Content': '真的是大方脸 特别特别方 而且侧面看脸 是平的…窒息了\\n不想放图 实在太丑了 ', 'Number': 13, 'comm_id': 'comm13'}]\n"
     ]
    }
   ],
   "source": [
    "rec = ['recBFuRiDwIknI4nV', 'recbtUksRCPhZEqpx']\n",
    "comments = []\n",
    "for i in resp2['records']:\n",
    "    for r in rec:\n",
    "        if i['id'] == r:\n",
    "            comments.append(i['fields'])\n",
    "        \n",
    "print (comments)"
   ]
  },
  {
   "cell_type": "code",
   "execution_count": 14,
   "metadata": {},
   "outputs": [
    {
     "name": "stdout",
     "output_type": "stream",
     "text": [
      "泡泡糖和to大王\n"
     ]
    }
   ],
   "source": [
    "print (comments[0]['UserName'][0])"
   ]
  },
  {
   "cell_type": "code",
   "execution_count": 15,
   "metadata": {},
   "outputs": [
    {
     "name": "stdout",
     "output_type": "stream",
     "text": [
      "皮小棉私生工坊 Pika私生真的很牛，一样一遍过完全没问题，都去找它花钱\n"
     ]
    }
   ],
   "source": [
    "print (comments[0]['Content'])"
   ]
  },
  {
   "cell_type": "code",
   "execution_count": null,
   "metadata": {},
   "outputs": [],
   "source": []
  }
 ],
 "metadata": {
  "kernelspec": {
   "display_name": "Python 3",
   "language": "python",
   "name": "python3"
  },
  "language_info": {
   "codemirror_mode": {
    "name": "ipython",
    "version": 3
   },
   "file_extension": ".py",
   "mimetype": "text/x-python",
   "name": "python",
   "nbconvert_exporter": "python",
   "pygments_lexer": "ipython3",
   "version": "3.8.5"
  }
 },
 "nbformat": 4,
 "nbformat_minor": 4
}
