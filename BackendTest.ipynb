{
 "cells": [
  {
   "cell_type": "code",
   "execution_count": 29,
   "metadata": {},
   "outputs": [
    {
     "name": "stdout",
     "output_type": "stream",
     "text": [
      "Status Code: 200\n"
     ]
    }
   ],
   "source": [
    "import requests\n",
    "import pandas as pd\n",
    "url = \"https://api.airtable.com/v0/appYTQ3wqtGFV1bI7/Plaza\"\n",
    "\n",
    "headers = {\n",
    "    'Authorization': 'Bearer keyfeHpNoj99MQRfv',\n",
    "}\n",
    "\n",
    "r = requests.get(url, headers=headers)\n",
    "print(\"Status Code:\",r.status_code)\n",
    "\n",
    "resp = r.json()\n"
   ]
  },
  {
   "cell_type": "code",
   "execution_count": 30,
   "metadata": {},
   "outputs": [
    {
     "name": "stdout",
     "output_type": "stream",
     "text": [
      "{'Poster_id': ['recrVBG1Z0KszWZ67'], 'Title': '凌肖肖浅穿一下酷尼企哇 ', 'Number': 10, 'Content': '内搭连体衣布料一般，有点小透？不影响，外套袖子内的布料有点脱毛，会粘到连体衣上面，外套和背带裤布料都还挺厚实的，帽子和围巾布料一般般，不过穿着还可以', 'p_id': 'p10', 'Poster': ['梅梅糖（学习版 '], 'Attribute': ['凌肖'], 'Image': [{'id': 'attKHde7wuJvtbe6X', 'width': 1080, 'height': 1080, 'url': 'https://dl.airtable.com/.attachments/c802751ec8c85970b5e1064f252fba0f/5897a9c3/p532914864.webp', 'filename': 'p532914864.webp', 'size': 138662, 'type': 'image/webp', 'thumbnails': {'small': {'url': 'https://dl.airtable.com/.attachmentThumbnails/b269980e452ba5d201a6dafc89cbbb82/8683376a.png', 'width': 36, 'height': 36}, 'large': {'url': 'https://dl.airtable.com/.attachmentThumbnails/82bb2d58e2af4de73bb0718d7a8f888f/8fcc47c0.png', 'width': 512, 'height': 512}, 'full': {'url': 'https://dl.airtable.com/.attachmentThumbnails/7368f05d5a41b36767a3c089c8d8e5b5/935d526c.png', 'width': 3000, 'height': 3000}}}]}\n",
      "\n",
      "\n",
      "{'Poster_id': ['rec6Z5Z5r4M2ah9Ss'], 'Title': '很美栗吧我们小栗糕', 'Number': 4, 'p_id': 'p4', 'Poster': ['一块绯雾碘锌']}\n",
      "\n",
      "\n",
      "{'Poster_id': ['recg2R4v6lf0H0BY2'], 'Title': '白色洗水兔毛真的适合帅哥', 'Number': 7, 'Content': '礼貌小孩', 'p_id': 'p7', 'Poster': ['心碎小狗'], 'Attribute': ['齐司礼'], 'Image': [{'id': 'attJ6sClu25wYZDeJ', 'width': 1080, 'height': 1266, 'url': 'https://dl.airtable.com/.attachments/1050f2a6eedcc1e4a83de6c4d2d80eff/b74fe3e7/p524963798.webp', 'filename': 'p524963798.webp', 'size': 76012, 'type': 'image/webp', 'thumbnails': {'small': {'url': 'https://dl.airtable.com/.attachmentThumbnails/65d55a5a058cbdb932431c04218b53b9/a179b173.png', 'width': 31, 'height': 36}, 'large': {'url': 'https://dl.airtable.com/.attachmentThumbnails/5293cab511c45889caa42f1a48c79fbf/556c337b.png', 'width': 512, 'height': 600}, 'full': {'url': 'https://dl.airtable.com/.attachmentThumbnails/fec1abd2729d67008834c16a714f4862/6609d213.png', 'width': 3000, 'height': 3000}}}]}\n",
      "\n",
      "\n",
      "{'Poster_id': ['rec7eoW9BuJeqT9YD'], 'Title': '娃用饮水机也太可爱啦', 'Number': 6, 'Content': '太可爱啦这个饮水机#棉花娃娃 #棉花美娃娃 #安利 #饮水机 #拼多多', 'p_id': 'p6', 'Poster': ['欧尼']}\n",
      "\n",
      "\n",
      "{'Poster_id': ['recXneQjydV4nI5S4'], 'Title': '问问妈咪们这个宝贝叫什么呀？', 'Number': 9, 'Content': '五条悟属性的', 'p_id': 'p9', 'Poster': ['MF不解释'], 'Attribute': ['五条悟']}\n",
      "\n",
      "\n",
      "{'Poster_id': ['recUrxH827pqWRKev'], 'Title': '沉浸式幼儿园接小孩 ', 'Number': 3, 'Content': '幼儿园放学了，小朋友们在等家长来接', 'Date': '2022-03-06', 'p_id': 'p3', 'Poster': ['不及雨'], 'Image': [{'id': 'att15kmmnxcnahSzU', 'width': 1080, 'height': 810, 'url': 'https://dl.airtable.com/.attachments/ed1f57b82fcf24527c5f1422baa43c74/805e9d79/p533110250.webp', 'filename': 'p533110250.webp', 'size': 76130, 'type': 'image/webp', 'thumbnails': {'small': {'url': 'https://dl.airtable.com/.attachmentThumbnails/763fdf6fa061cfd2bfebcd576ca27098/7b80b55f.png', 'width': 48, 'height': 36}, 'large': {'url': 'https://dl.airtable.com/.attachmentThumbnails/f4bf5f4b3df0d580131b98d72ddf8562/11ee9f11.png', 'width': 683, 'height': 512}, 'full': {'url': 'https://dl.airtable.com/.attachmentThumbnails/579e7f2f66ca6d42b8448602778b584a/db85f609.png', 'width': 3000, 'height': 3000}}}]}\n",
      "\n",
      "\n",
      "{'Poster_id': ['recVwyV9oARWuDd2p'], 'Title': '出刘昊然属性空吧哇，仅仅打了晒红！ \\u200b', 'Number': 8, 'p_id': 'p8', 'Poster': ['是薄薄啦'], 'Attribute': ['刘昊然']}\n",
      "\n",
      "\n",
      "{'Poster_id': ['rec1b6ZozTC2g8KZx'], 'Title': '各位ee们可以进来看一看小兔to嘛💞还有甜美竹马 ', 'Number': 1, 'Date': '2022-03-06', 'p_id': 'p1', 'Poster': ['泡泡糖和to大王'], 'Image': [{'id': 'attod3UZGnv7h6rr4', 'width': 1080, 'height': 1080, 'url': 'https://dl.airtable.com/.attachments/9bad4c9c7fbc76eac837ecd192bdfb98/ffe73a82/p533104882.webp', 'filename': 'p533104882.webp', 'size': 112272, 'type': 'image/webp', 'thumbnails': {'small': {'url': 'https://dl.airtable.com/.attachmentThumbnails/fabc59119cb2af1b65bc6baf2920925a/842bfc93.png', 'width': 36, 'height': 36}, 'large': {'url': 'https://dl.airtable.com/.attachmentThumbnails/3bc996d2e26aa9e4bf98664b82c81997/8964b266.png', 'width': 512, 'height': 512}, 'full': {'url': 'https://dl.airtable.com/.attachmentThumbnails/45b64149c0b565d0d132bb9f92a38a99/c05eddc0.png', 'width': 3000, 'height': 3000}}}]}\n",
      "\n",
      "\n",
      "{'Poster_id': ['recL1qZOK9rtp2OGM'], 'Title': '一觉醒来自己进毒圈了 ', 'Number': 5, 'Content': '给我的宝也做好防护（口罩是自制的） \\u200b', 'p_id': 'p5', 'Poster': ['小林不胖吧']}\n",
      "\n",
      "\n",
      "{'Poster_id': ['recxg1ZMkwLLGJ9vC'], 'Title': '深夜征名', 'Number': 2, 'Content': '选中的揪一个', 'Date': '2022-03-06', 'p_id': 'p2', 'Poster': ['一只兔宅']}\n",
      "\n",
      "\n"
     ]
    }
   ],
   "source": [
    "for i in resp['records']:\n",
    "    print (i[ 'fields'])\n",
    "    print (\"\\n\")"
   ]
  },
  {
   "cell_type": "code",
   "execution_count": 34,
   "metadata": {},
   "outputs": [
    {
     "name": "stdout",
     "output_type": "stream",
     "text": [
      "https://dl.airtable.com/.attachments/c802751ec8c85970b5e1064f252fba0f/5897a9c3/p532914864.webp\n"
     ]
    }
   ],
   "source": [
    "print (resp['records'][0]['fields']['Image'][0]['url'])"
   ]
  },
  {
   "cell_type": "code",
   "execution_count": null,
   "metadata": {},
   "outputs": [],
   "source": []
  }
 ],
 "metadata": {
  "kernelspec": {
   "display_name": "Python 3",
   "language": "python",
   "name": "python3"
  },
  "language_info": {
   "codemirror_mode": {
    "name": "ipython",
    "version": 3
   },
   "file_extension": ".py",
   "mimetype": "text/x-python",
   "name": "python",
   "nbconvert_exporter": "python",
   "pygments_lexer": "ipython3",
   "version": "3.8.5"
  }
 },
 "nbformat": 4,
 "nbformat_minor": 4
}
